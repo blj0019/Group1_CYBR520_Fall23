{
 "cells": [
  {
   "cell_type": "code",
   "execution_count": 13,
   "id": "b857b14f-4070-4b2d-b5e7-2403dd9e791f",
   "metadata": {},
   "outputs": [],
   "source": [
    "#Step 1 - Data Cleaning + Memory Usage Adjustment"
   ]
  },
  {
   "cell_type": "code",
   "execution_count": 14,
   "id": "f10b569c",
   "metadata": {},
   "outputs": [],
   "source": [
    "#Begin by importing libraries\n",
    "import pandas as pd\n",
    "import numpy as np\n",
    "from sklearn.model_selection import train_test_split\n",
    "from sklearn.preprocessing import StandardScaler, LabelEncoder\n",
    "from sklearn.decomposition import PCA"
   ]
  },
  {
   "cell_type": "code",
   "execution_count": 15,
   "id": "7bca4cca",
   "metadata": {},
   "outputs": [],
   "source": [
    "#Function to reduce the memory usage\n",
    "def reduce_memory_usage(df):\n",
    "    numerics = ['int16', 'int32', 'int64', 'float16', 'float32', 'float64']\n",
    "    for col in df.columns:\n",
    "        col_type = df[col].dtype\n",
    "        if col_type in numerics:\n",
    "            c_min = df[col].min()\n",
    "            c_max = df[col].max()\n",
    "            if str(col_type)[:3] == 'int':\n",
    "                if c_min > np.iinfo(np.int8).min and c_max < np.iinfo(np.int8).max:\n",
    "                    df[col] = df[col].astype(np.int8)\n",
    "                elif c_min > np.iinfo(np.int16).min and c_max < np.iinfo(np.int16).max:\n",
    "                    df[col] = df[col].astype(np.int16)\n",
    "                elif c_min > np.iinfo(np.int32).min and c_max < np.iinfo(np.int32).max:\n",
    "                    df[col] = df[col].astype(np.int32)\n",
    "                elif c_min > np.iinfo(np.int64).min and c_max < np.iinfo(np.int64).max:\n",
    "                    df[col] = df[col].astype(np.int64)  \n",
    "            else:\n",
    "                if c_min > np.finfo(np.float16).min and c_max < np.finfo(np.float16).max:\n",
    "                    df[col] = df[col].astype(np.float16)\n",
    "                elif c_min > np.finfo(np.float32).min and c_max < np.finfo(np.float32).max:\n",
    "                    df[col] = df[col].astype(np.float32)\n",
    "                else:\n",
    "                    df[col] = df[col].astype(np.float64)\n",
    "    return df"
   ]
  },
  {
   "cell_type": "code",
   "execution_count": 16,
   "id": "f49f2620",
   "metadata": {},
   "outputs": [],
   "source": [
    "#Function to inspect and correct any mixed-type columns\n",
    "def inspect_and_correct(df):\n",
    "    for col in df.columns:\n",
    "        mixed_types = df[col].apply(type).nunique() > 1\n",
    "        if mixed_types:\n",
    "            try:\n",
    "                df[col] = pd.to_numeric(df[col], errors='coerce')  # Convert to numeric if possible\n",
    "            except Exception as e:\n",
    "                df[col] = df[col].astype(str)  # Convert to string otherwise\n",
    "    return df"
   ]
  },
  {
   "cell_type": "code",
   "execution_count": 17,
   "id": "873ae9a1",
   "metadata": {},
   "outputs": [],
   "source": [
    "#Loading data with low_memory option\n",
    "file_path = 'ciciot2022.csv'\n",
    "df = pd.read_csv(file_path, low_memory=False)"
   ]
  },
  {
   "cell_type": "code",
   "execution_count": 18,
   "id": "4b37e8e3",
   "metadata": {},
   "outputs": [],
   "source": [
    "# Reduce memory usage and clean data\n",
    "df = reduce_memory_usage(df)\n",
    "df = inspect_and_correct(df)"
   ]
  },
  {
   "cell_type": "code",
   "execution_count": 19,
   "id": "1a529c80",
   "metadata": {},
   "outputs": [],
   "source": [
    "# Handling Missing Values\n",
    "for col in df.columns:\n",
    "    if df[col].dtype == 'object':\n",
    "        df[col].fillna(df[col].mode()[0], inplace=True)\n",
    "    else:\n",
    "        df[col].fillna(df[col].mean(), inplace=True)"
   ]
  },
  {
   "cell_type": "code",
   "execution_count": 20,
   "id": "4f79e025",
   "metadata": {},
   "outputs": [],
   "source": [
    "# Removing Duplicates\n",
    "df.drop_duplicates(inplace=True)"
   ]
  },
  {
   "cell_type": "code",
   "execution_count": 21,
   "id": "171d0b6b",
   "metadata": {},
   "outputs": [],
   "source": [
    "# Feature Engineering\n",
    "# Optimized One-Hot and Label Encoding\n",
    "label_encoder = LabelEncoder()\n",
    "one_hot_threshold = 10  # Define a threshold for unique values\n",
    "\n",
    "for col in df.select_dtypes(include=['object']).columns:\n",
    "    if df[col].nunique() <= one_hot_threshold:\n",
    "        df = pd.get_dummies(df, columns=[col], drop_first=True)\n",
    "    else:\n",
    "        df[col] = label_encoder.fit_transform(df[col])"
   ]
  },
  {
   "cell_type": "code",
   "execution_count": 22,
   "id": "6458dd5f",
   "metadata": {},
   "outputs": [],
   "source": [
    "# Normalization/Standardization\n",
    "numerical_columns = df.select_dtypes(include=[np.number]).columns\n",
    "scaler = StandardScaler()\n",
    "df[numerical_columns] = scaler.fit_transform(df[numerical_columns])"
   ]
  },
  {
   "cell_type": "code",
   "execution_count": 23,
   "id": "10f3ad69",
   "metadata": {},
   "outputs": [],
   "source": [
    "# Dimensionality Reduction\n",
    "pca = PCA(n_components=0.95)  # Keep 95% of variance\n",
    "principalComponents = pca.fit_transform(df[numerical_columns])\n",
    "df_pca = pd.DataFrame(data=principalComponents)"
   ]
  },
  {
   "cell_type": "code",
   "execution_count": 24,
   "id": "2756c08b",
   "metadata": {},
   "outputs": [],
   "source": [
    "# Data Splitting\n",
    "#Also need to determine our target column on what we're basing our ML algorithm on to detect anamolies/issues\n",
    "X = df_pca\n",
    "y = df['average']  # Replace with your actual target column\n",
    "X_train, X_test, y_train, y_test = train_test_split(X, y, test_size=0.2, random_state=42)"
   ]
  },
  {
   "cell_type": "code",
   "execution_count": 25,
   "id": "7e1d1c9e",
   "metadata": {},
   "outputs": [],
   "source": [
    "# Saving the Processed Data\n",
    "X_train.to_csv('X_train.csv', index=False)\n",
    "y_train.to_csv('y_train.csv', index=False)\n",
    "X_test.to_csv('X_test.csv', index=False)\n",
    "y_test.to_csv('y_test.csv', index=False)"
   ]
  },
  {
   "cell_type": "code",
   "execution_count": 26,
   "id": "b725a189",
   "metadata": {},
   "outputs": [
    {
     "name": "stdout",
     "output_type": "stream",
     "text": [
      "Data cleaning and preprocessing completed.\n"
     ]
    }
   ],
   "source": [
    "#Successful Print Statement\n",
    "print(\"Data cleaning and preprocessing completed.\")"
   ]
  },
  {
   "cell_type": "code",
   "execution_count": 27,
   "id": "f29ff9be",
   "metadata": {},
   "outputs": [],
   "source": [
    "#Step 2 - Isolation Forest Training + Anomaly Detection"
   ]
  },
  {
   "cell_type": "code",
   "execution_count": 28,
   "id": "79a2ea09-4fef-4759-a2be-f2ddea111b78",
   "metadata": {},
   "outputs": [],
   "source": [
    "import pandas as pd\n",
    "from sklearn.ensemble import IsolationForest"
   ]
  },
  {
   "cell_type": "code",
   "execution_count": 29,
   "id": "566b1896-be28-44bc-8d4e-6ecbf90ce593",
   "metadata": {},
   "outputs": [],
   "source": [
    "# Load preprocessed data\n",
    "X_train = pd.read_csv('X_train.csv')\n",
    "X_test = pd.read_csv('X_test.csv')"
   ]
  },
  {
   "cell_type": "code",
   "execution_count": 30,
   "id": "33069ae1-5131-415d-8d38-9ea154ab9527",
   "metadata": {},
   "outputs": [
    {
     "data": {
      "text/html": [
       "<style>#sk-container-id-2 {color: black;}#sk-container-id-2 pre{padding: 0;}#sk-container-id-2 div.sk-toggleable {background-color: white;}#sk-container-id-2 label.sk-toggleable__label {cursor: pointer;display: block;width: 100%;margin-bottom: 0;padding: 0.3em;box-sizing: border-box;text-align: center;}#sk-container-id-2 label.sk-toggleable__label-arrow:before {content: \"▸\";float: left;margin-right: 0.25em;color: #696969;}#sk-container-id-2 label.sk-toggleable__label-arrow:hover:before {color: black;}#sk-container-id-2 div.sk-estimator:hover label.sk-toggleable__label-arrow:before {color: black;}#sk-container-id-2 div.sk-toggleable__content {max-height: 0;max-width: 0;overflow: hidden;text-align: left;background-color: #f0f8ff;}#sk-container-id-2 div.sk-toggleable__content pre {margin: 0.2em;color: black;border-radius: 0.25em;background-color: #f0f8ff;}#sk-container-id-2 input.sk-toggleable__control:checked~div.sk-toggleable__content {max-height: 200px;max-width: 100%;overflow: auto;}#sk-container-id-2 input.sk-toggleable__control:checked~label.sk-toggleable__label-arrow:before {content: \"▾\";}#sk-container-id-2 div.sk-estimator input.sk-toggleable__control:checked~label.sk-toggleable__label {background-color: #d4ebff;}#sk-container-id-2 div.sk-label input.sk-toggleable__control:checked~label.sk-toggleable__label {background-color: #d4ebff;}#sk-container-id-2 input.sk-hidden--visually {border: 0;clip: rect(1px 1px 1px 1px);clip: rect(1px, 1px, 1px, 1px);height: 1px;margin: -1px;overflow: hidden;padding: 0;position: absolute;width: 1px;}#sk-container-id-2 div.sk-estimator {font-family: monospace;background-color: #f0f8ff;border: 1px dotted black;border-radius: 0.25em;box-sizing: border-box;margin-bottom: 0.5em;}#sk-container-id-2 div.sk-estimator:hover {background-color: #d4ebff;}#sk-container-id-2 div.sk-parallel-item::after {content: \"\";width: 100%;border-bottom: 1px solid gray;flex-grow: 1;}#sk-container-id-2 div.sk-label:hover label.sk-toggleable__label {background-color: #d4ebff;}#sk-container-id-2 div.sk-serial::before {content: \"\";position: absolute;border-left: 1px solid gray;box-sizing: border-box;top: 0;bottom: 0;left: 50%;z-index: 0;}#sk-container-id-2 div.sk-serial {display: flex;flex-direction: column;align-items: center;background-color: white;padding-right: 0.2em;padding-left: 0.2em;position: relative;}#sk-container-id-2 div.sk-item {position: relative;z-index: 1;}#sk-container-id-2 div.sk-parallel {display: flex;align-items: stretch;justify-content: center;background-color: white;position: relative;}#sk-container-id-2 div.sk-item::before, #sk-container-id-2 div.sk-parallel-item::before {content: \"\";position: absolute;border-left: 1px solid gray;box-sizing: border-box;top: 0;bottom: 0;left: 50%;z-index: -1;}#sk-container-id-2 div.sk-parallel-item {display: flex;flex-direction: column;z-index: 1;position: relative;background-color: white;}#sk-container-id-2 div.sk-parallel-item:first-child::after {align-self: flex-end;width: 50%;}#sk-container-id-2 div.sk-parallel-item:last-child::after {align-self: flex-start;width: 50%;}#sk-container-id-2 div.sk-parallel-item:only-child::after {width: 0;}#sk-container-id-2 div.sk-dashed-wrapped {border: 1px dashed gray;margin: 0 0.4em 0.5em 0.4em;box-sizing: border-box;padding-bottom: 0.4em;background-color: white;}#sk-container-id-2 div.sk-label label {font-family: monospace;font-weight: bold;display: inline-block;line-height: 1.2em;}#sk-container-id-2 div.sk-label-container {text-align: center;}#sk-container-id-2 div.sk-container {/* jupyter's `normalize.less` sets `[hidden] { display: none; }` but bootstrap.min.css set `[hidden] { display: none !important; }` so we also need the `!important` here to be able to override the default hidden behavior on the sphinx rendered scikit-learn.org. See: https://github.com/scikit-learn/scikit-learn/issues/21755 */display: inline-block !important;position: relative;}#sk-container-id-2 div.sk-text-repr-fallback {display: none;}</style><div id=\"sk-container-id-2\" class=\"sk-top-container\"><div class=\"sk-text-repr-fallback\"><pre>IsolationForest()</pre><b>In a Jupyter environment, please rerun this cell to show the HTML representation or trust the notebook. <br />On GitHub, the HTML representation is unable to render, please try loading this page with nbviewer.org.</b></div><div class=\"sk-container\" hidden><div class=\"sk-item\"><div class=\"sk-estimator sk-toggleable\"><input class=\"sk-toggleable__control sk-hidden--visually\" id=\"sk-estimator-id-2\" type=\"checkbox\" checked><label for=\"sk-estimator-id-2\" class=\"sk-toggleable__label sk-toggleable__label-arrow\">IsolationForest</label><div class=\"sk-toggleable__content\"><pre>IsolationForest()</pre></div></div></div></div></div>"
      ],
      "text/plain": [
       "IsolationForest()"
      ]
     },
     "execution_count": 30,
     "metadata": {},
     "output_type": "execute_result"
    }
   ],
   "source": [
    "# Isolation Forest Model using 'auto'\n",
    "iso_forest = IsolationForest(n_estimators=100, contamination='auto')  # 'auto' lets the algorithm define the threshold\n",
    "iso_forest.fit(X_train)"
   ]
  },
  {
   "cell_type": "code",
   "execution_count": 31,
   "id": "e0f1060b-0148-49ef-81b3-ea7d150fbc84",
   "metadata": {},
   "outputs": [],
   "source": [
    "# Predict anomalies on training and test data\n",
    "train_preds = iso_forest.predict(X_train)\n",
    "test_preds = iso_forest.predict(X_test)"
   ]
  },
  {
   "cell_type": "code",
   "execution_count": 32,
   "id": "101ba4fe-2afc-42e2-a740-cf908cca80fa",
   "metadata": {},
   "outputs": [],
   "source": [
    "# Convert predictions to a binary label with normal data as \"1\" and anomalies as \"-1\"\n",
    "# Here, -1 indicates an anomaly\n",
    "X_train['anomaly'] = train_preds\n",
    "X_test['anomaly'] = test_preds"
   ]
  },
  {
   "cell_type": "code",
   "execution_count": 33,
   "id": "da2d525a-4bb2-449d-8a07-4db92a1adba4",
   "metadata": {},
   "outputs": [],
   "source": [
    "#Analyze the results to check the proportion of anomalies detected\n",
    "anomalies_train = X_train[X_train['anomaly'] == -1]\n",
    "anomalies_test = X_test[X_test['anomaly'] == -1]"
   ]
  },
  {
   "cell_type": "code",
   "execution_count": 34,
   "id": "904e255c-a183-4b76-b944-9b8d92903391",
   "metadata": {},
   "outputs": [],
   "source": [
    "# Calculate the percentage of anomalies\n",
    "percentage_anomalies_train = (len(anomalies_train) / len(X_train)) * 100\n",
    "percentage_anomalies_test = (len(anomalies_test) / len(X_test)) * 100"
   ]
  },
  {
   "cell_type": "code",
   "execution_count": 35,
   "id": "3ddd4ee8-cab7-4dec-9657-ee45ec63a6a7",
   "metadata": {},
   "outputs": [
    {
     "name": "stdout",
     "output_type": "stream",
     "text": [
      "Anomalies in Training Data: 3281 / 183604 (1.79% of data is anomalies)\n",
      "Anomalies in Test Data: 829 / 45902 (1.81% of data is anomalies)\n"
     ]
    }
   ],
   "source": [
    "# Print the number and percentage of anomalies in training and test data\n",
    "print(f\"Anomalies in Training Data: {len(anomalies_train)} / {len(X_train)} ({percentage_anomalies_train:.2f}% of data is anomalies)\")\n",
    "print(f\"Anomalies in Test Data: {len(anomalies_test)} / {len(X_test)} ({percentage_anomalies_test:.2f}% of data is anomalies)\")"
   ]
  },
  {
   "cell_type": "code",
   "execution_count": null,
   "id": "905505c5-9856-4c02-b510-09b00cb80aca",
   "metadata": {},
   "outputs": [],
   "source": []
  }
 ],
 "metadata": {
  "kernelspec": {
   "display_name": "Python 3 (ipykernel)",
   "language": "python",
   "name": "python3"
  },
  "language_info": {
   "codemirror_mode": {
    "name": "ipython",
    "version": 3
   },
   "file_extension": ".py",
   "mimetype": "text/x-python",
   "name": "python",
   "nbconvert_exporter": "python",
   "pygments_lexer": "ipython3",
   "version": "3.11.5"
  }
 },
 "nbformat": 4,
 "nbformat_minor": 5
}
